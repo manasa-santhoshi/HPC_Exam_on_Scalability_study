{
 "cells": [
  {
   "cell_type": "markdown",
   "id": "61da62e8",
   "metadata": {},
   "source": [
    "# HPC Performance Analysis\n",
    "Plotting BLIS and OpenBLAS results and saving graphs to `analysis/` folder\n"
   ]
  },
  {
   "cell_type": "code",
   "execution_count": 5,
   "id": "880a6f34",
   "metadata": {},
   "outputs": [],
   "source": [
    "import os\n",
    "import pandas as pd\n",
    "import numpy as np\n",
    "import matplotlib.pyplot as plt\n",
    "\n",
    "# Create analysis folder if it doesn't exist\n",
    "os.makedirs(\"/Users/manasamaddi/Documents/HPC/Analysis\", exist_ok=True)\n"
   ]
  },
  {
   "cell_type": "code",
   "execution_count": 13,
   "id": "a828db01",
   "metadata": {},
   "outputs": [],
   "source": [
    "# Defining the base paths\n",
    "\n",
    "DATA_ROOT = \"/Users/manasamaddi/Documents/HPC/HPC_data\"\n",
    "OUTPUT_DIR = \"/Users/manasamaddi/Documents/HPC/Analysis\""
   ]
  },
  {
   "cell_type": "code",
   "execution_count": 14,
   "id": "0b012c74",
   "metadata": {},
   "outputs": [],
   "source": [
    "# Cell 2: Plot function for \"Fixed Cores, Variable Matrix Size\"\n",
    "def plot_fixed_cores(node_kind, precision, tpp):\n",
    "    res_path = os.path.join(DATA_ROOT, \"fixed_cores\", node_kind)\n",
    "    suffix = f\"_{precision}\"\n",
    "    column_names = ['m', 'k', 'n', 'time', 'gflops']\n",
    "    \n",
    "    def load_and_avg(filepath):\n",
    "        if not os.path.exists(filepath):\n",
    "            print(f\"Warning: {filepath} not found. Skipping.\")\n",
    "            return None\n",
    "        df = pd.read_csv(filepath, names=column_names, header=0)\n",
    "        return df.groupby(\"m\")[['gflops', 'time']].mean().reset_index()  # ← FIXED\n",
    "    \n",
    "    blis_close = load_and_avg(os.path.join(res_path, \"close_cores\", f\"blis{suffix}.csv\"))\n",
    "    openblas_close = load_and_avg(os.path.join(res_path, \"close_cores\", f\"openblas{suffix}.csv\"))\n",
    "    blis_spread = load_and_avg(os.path.join(res_path, \"spread_cores\", f\"blis{suffix}.csv\"))\n",
    "    openblas_spread = load_and_avg(os.path.join(res_path, \"spread_cores\", f\"openblas{suffix}.csv\"))\n",
    "    \n",
    "    plt.figure(figsize=(8, 6))\n",
    "    \n",
    "    if blis_close is not None:\n",
    "        plt.plot(blis_close['m'], blis_close['gflops'], label=\"BLIS Close\", color='blue')\n",
    "    if openblas_close is not None:\n",
    "        plt.plot(openblas_close['m'], openblas_close['gflops'], label=\"OpenBLAS Close\", color='dodgerblue')\n",
    "    if blis_spread is not None:\n",
    "        plt.plot(blis_spread['m'], blis_spread['gflops'], label=\"BLIS Spread\", color='forestgreen')\n",
    "    if openblas_spread is not None:\n",
    "        plt.plot(openblas_spread['m'], openblas_spread['gflops'], label=\"OpenBLAS Spread\", color='limegreen')\n",
    "    \n",
    "    # Add TPP line if any data exists\n",
    "    if any(x is not None for x in [blis_close, blis_spread]):\n",
    "        m_vals = (blis_close['m'] if blis_close is not None else blis_spread['m'])\n",
    "        plt.axhline(y=tpp, color='pink', linestyle='--', label=\"TPP\")\n",
    "    \n",
    "    plt.xlabel(\"Matrix dimension (m)\")\n",
    "    plt.ylabel(\"Performance [Gflops/s]\")\n",
    "    plt.title(f\"Fixed Cores – {node_kind} ({'float32' if precision == 'f' else 'float64'})\")\n",
    "    plt.legend()\n",
    "    plt.grid(True, linestyle=':', alpha=0.7)\n",
    "    \n",
    "    output_file = os.path.join(OUTPUT_DIR, f\"fixed_cores_{node_kind}_{precision}.png\")\n",
    "    plt.savefig(output_file, dpi=150, bbox_inches='tight')\n",
    "    plt.close()\n",
    "    print(f\"Saved: {output_file}\")\n"
   ]
  },
  {
   "cell_type": "code",
   "execution_count": 15,
   "id": "c8948138",
   "metadata": {},
   "outputs": [],
   "source": [
    "# Cell 3: Plot function for \"Fixed Matrix Size, Variable Cores\"\n",
    "def plot_fixed_matrix(node_kind, precision, tpp):\n",
    "    res_path = os.path.join(DATA_ROOT, \"fixed_matrix\", node_kind)\n",
    "    suffix = f\"_{precision}\"\n",
    "    column_names = ['cores', 'm', 'k', 'n', 'time', 'gflops']\n",
    "    \n",
    "    def load_and_avg(filepath):\n",
    "        if not os.path.exists(filepath):\n",
    "            print(f\"Warning: {filepath} not found. Skipping.\")\n",
    "            return None\n",
    "        df = pd.read_csv(filepath, names=column_names, header=0)\n",
    "        return df.groupby(\"cores\")[['gflops', 'time']].mean().reset_index()  # ← FIXED\n",
    "    \n",
    "    blis_close = load_and_avg(os.path.join(res_path, \"close_cores\", f\"blis{suffix}.csv\"))\n",
    "    openblas_close = load_and_avg(os.path.join(res_path, \"close_cores\", f\"openblas{suffix}.csv\"))\n",
    "    blis_spread = load_and_avg(os.path.join(res_path, \"spread_cores\", f\"blis{suffix}.csv\"))\n",
    "    openblas_spread = load_and_avg(os.path.join(res_path, \"spread_cores\", f\"openblas{suffix}.csv\"))\n",
    "    \n",
    "    plt.figure(figsize=(8, 6))\n",
    "    \n",
    "    if blis_close is not None:\n",
    "        plt.plot(blis_close['cores'], blis_close['gflops'], label=\"BLIS Close\", color='blue')\n",
    "    if openblas_close is not None:\n",
    "        plt.plot(openblas_close['cores'], openblas_close['gflops'], label=\"OpenBLAS Close\", color='dodgerblue')\n",
    "    if blis_spread is not None:\n",
    "        plt.plot(blis_spread['cores'], blis_spread['gflops'], label=\"BLIS Spread\", color='forestgreen')\n",
    "    if openblas_spread is not None:\n",
    "        plt.plot(openblas_spread['cores'], openblas_spread['gflops'], label=\"OpenBLAS Spread\", color='limegreen')\n",
    "    \n",
    "    # Add TPP line\n",
    "    if any(x is not None for x in [blis_close, blis_spread]):\n",
    "        cores_vals = (blis_close['cores'] if blis_close is not None else blis_spread['cores'])\n",
    "        plt.plot(cores_vals, [tpp] * len(cores_vals), 'k--', color='pink', label=\"TPP\")\n",
    "    \n",
    "    plt.xlabel(\"Number of cores\")\n",
    "    plt.ylabel(\"Performance [Gflops/s]\")\n",
    "    plt.title(f\"Fixed Matrix – {node_kind} ({'float32' if precision == 'f' else 'float64'})\")\n",
    "    plt.legend()\n",
    "    plt.grid(True, linestyle=':', alpha=0.7)\n",
    "    \n",
    "    output_file = os.path.join(OUTPUT_DIR, f\"fixed_matrix_{node_kind}_{precision}.png\")\n",
    "    plt.savefig(output_file, dpi=150, bbox_inches='tight')\n",
    "    plt.close()\n",
    "    print(f\"Saved: {output_file}\")"
   ]
  },
  {
   "cell_type": "code",
   "execution_count": 16,
   "id": "1212ea55",
   "metadata": {},
   "outputs": [
    {
     "name": "stdout",
     "output_type": "stream",
     "text": [
      "Saved: /Users/manasamaddi/Documents/HPC/Analysis/fixed_cores_THIN_f.png\n",
      "Saved: /Users/manasamaddi/Documents/HPC/Analysis/fixed_cores_THIN_d.png\n",
      "Saved: /Users/manasamaddi/Documents/HPC/Analysis/fixed_cores_EPYC_f.png\n",
      "Saved: /Users/manasamaddi/Documents/HPC/Analysis/fixed_cores_EPYC_d.png\n"
     ]
    },
    {
     "name": "stderr",
     "output_type": "stream",
     "text": [
      "/var/folders/gb/kl7k_yd53t1b4gmt1y4x66y40000gp/T/ipykernel_9397/600367821.py:33: UserWarning: color is redundantly defined by the 'color' keyword argument and the fmt string \"k--\" (-> color='k'). The keyword argument will take precedence.\n",
      "  plt.plot(cores_vals, [tpp] * len(cores_vals), 'k--', color='pink', label=\"TPP\")\n",
      "/var/folders/gb/kl7k_yd53t1b4gmt1y4x66y40000gp/T/ipykernel_9397/600367821.py:33: UserWarning: color is redundantly defined by the 'color' keyword argument and the fmt string \"k--\" (-> color='k'). The keyword argument will take precedence.\n",
      "  plt.plot(cores_vals, [tpp] * len(cores_vals), 'k--', color='pink', label=\"TPP\")\n",
      "/var/folders/gb/kl7k_yd53t1b4gmt1y4x66y40000gp/T/ipykernel_9397/600367821.py:33: UserWarning: color is redundantly defined by the 'color' keyword argument and the fmt string \"k--\" (-> color='k'). The keyword argument will take precedence.\n",
      "  plt.plot(cores_vals, [tpp] * len(cores_vals), 'k--', color='pink', label=\"TPP\")\n",
      "/var/folders/gb/kl7k_yd53t1b4gmt1y4x66y40000gp/T/ipykernel_9397/600367821.py:33: UserWarning: color is redundantly defined by the 'color' keyword argument and the fmt string \"k--\" (-> color='k'). The keyword argument will take precedence.\n",
      "  plt.plot(cores_vals, [tpp] * len(cores_vals), 'k--', color='pink', label=\"TPP\")\n"
     ]
    },
    {
     "name": "stdout",
     "output_type": "stream",
     "text": [
      "Saved: /Users/manasamaddi/Documents/HPC/Analysis/fixed_matrix_THIN_f.png\n",
      "Saved: /Users/manasamaddi/Documents/HPC/Analysis/fixed_matrix_THIN_d.png\n",
      "Saved: /Users/manasamaddi/Documents/HPC/Analysis/fixed_matrix_EPYC_f.png\n",
      "Saved: /Users/manasamaddi/Documents/HPC/Analysis/fixed_matrix_EPYC_d.png\n"
     ]
    }
   ],
   "source": [
    "# Cell 4: Run all plots\n",
    "plot_fixed_cores(\"THIN\", \"f\", tpp=1997 * 0.5 * 2)\n",
    "plot_fixed_cores(\"THIN\", \"d\", tpp=1997 * 0.5)\n",
    "plot_fixed_cores(\"EPYC\", \"f\", tpp=2.60 * 16 * 64 * 2)\n",
    "plot_fixed_cores(\"EPYC\", \"d\", tpp=2.60 * 16 * 64)\n",
    "\n",
    "plot_fixed_matrix(\"THIN\", \"f\", tpp=1997 / 24 * 2)\n",
    "plot_fixed_matrix(\"THIN\", \"d\", tpp=1997 / 24)\n",
    "plot_fixed_matrix(\"EPYC\", \"f\", tpp=2.60 * 16 * 2)\n",
    "plot_fixed_matrix(\"EPYC\", \"d\", tpp=2.60 * 16)"
   ]
  }
 ],
 "metadata": {
  "kernelspec": {
   "display_name": "HPC (.venv)",
   "language": "python",
   "name": "hpc_venv"
  },
  "language_info": {
   "codemirror_mode": {
    "name": "ipython",
    "version": 3
   },
   "file_extension": ".py",
   "mimetype": "text/x-python",
   "name": "python",
   "nbconvert_exporter": "python",
   "pygments_lexer": "ipython3",
   "version": "3.13.2"
  }
 },
 "nbformat": 4,
 "nbformat_minor": 5
}
